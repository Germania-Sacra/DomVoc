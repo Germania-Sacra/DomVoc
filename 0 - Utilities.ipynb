{
 "cells": [
  {
   "cell_type": "markdown",
   "id": "dcdb1b17",
   "metadata": {},
   "source": [
    "# Notebook 0 - Utilities\n",
    "This notebook is **not** part of the monastery database to FactGrid workflow. It contains useful routines that can be used to perform a variety of tasks surrounding the upload of data to FactGrid."
   ]
  },
  {
   "cell_type": "markdown",
   "id": "af0d38bf",
   "metadata": {},
   "source": [
    "## FactGrid -> Klosterdatenbank\n",
    "After the import of new monasteries, it is desired to add the newly created FactGrid Items for each religious community and building complex back to the monaster database. Execute the following cell to query FactGrid for monasteries and building complexes associated with the Germania Sacra or the monastery database. These can then be imported into the access database. The files can be found under `data/factgrid_data/` in both, CSV and Excel format."
   ]
  },
  {
   "cell_type": "code",
   "execution_count": 11,
   "id": "a6455cb9",
   "metadata": {},
   "outputs": [],
   "source": [
    "from helper_functions import query_factgrid\n",
    "\n",
    "# Get FactGrid Data\n",
    "monasteries_in_factgrid = query_factgrid(\"monasteries\")\n",
    "building_complexes_in_factgrid = query_factgrid(\"building_complexes\")\n",
    "\n",
    "# Cleanup data\n",
    "monasteries_in_factgrid[\"item\"] = monasteries_in_factgrid[\"item\"].str.split(\"/\").str[-1]\n",
    "monasteries_in_factgrid.rename(columns={\"item\":\"url_value\", \"KlosterdatenbankID\":\"gsn_id\"}, inplace=True)\n",
    "monasteries_in_factgrid[\"url_type_id\"] = 42\n",
    "\n",
    "building_complexes_in_factgrid\n",
    "building_complexes_in_factgrid[\"item\"] = building_complexes_in_factgrid[\"item\"].str.split(\"/\").str[-1]\n",
    "building_complexes_in_factgrid[\"GSVocabTerm\"] = building_complexes_in_factgrid[\"GSVocabTerm\"].str.split(\"Location\").str[-1]\n",
    "building_complexes_in_factgrid.rename(columns={\"item\":\"factgrid_id\", \"GSVocabTerm\":\"id_monastery_location\"}, inplace=True)\n",
    "\n",
    "# Save data\n",
    "monasteries_in_factgrid.to_csv(\"data/factgrid_data/monasteries_in_factgrid.csv\")\n",
    "monasteries_in_factgrid.to_excel(\"data/factgrid_data/monasteries_in_factgrid.xlsx\")\n",
    "building_complexes_in_factgrid.to_csv(\"data/factgrid_data/building_complexes_in_factgrid.csv\")\n",
    "building_complexes_in_factgrid.to_excel(\"data/factgrid_data/building_complexes_in_factgrid.xlsx\")"
   ]
  },
  {
   "cell_type": "markdown",
   "id": "ca2a64ac",
   "metadata": {},
   "source": [
    "## Query FactGrid using API\n",
    "The function `query_factgrid` in `helper_functions.py` allows to perform specific predefined queries against FactGrid's SPARQL endpoint. If you plan to use a query frequently, it makes sense to add it to the function so that it can be called directly. However, if you just want to quickly perform a one-time-query you can execute the following cell. Make sure to change the lines with comments behind them to fit your usecase. Results will be stored in `data/factgrid_data/`\n",
    "\n",
    "*Method was mainly coded by Luana Moares Coasta*"
   ]
  },
  {
   "cell_type": "code",
   "execution_count": 12,
   "id": "ce56af4d",
   "metadata": {},
   "outputs": [],
   "source": [
    "from SPARQLWrapper import SPARQLWrapper, JSON\n",
    "import pandas as pd\n",
    "\n",
    "ENDPOINT = \"https://database.factgrid.de/sparql\"\n",
    "FILE_NAME = \"query_results\" # ENTER YOUR DESIRED OUTPUT-FILE-NAME HERE\n",
    "\n",
    "# ENTER YOUR QUERY HERE\n",
    "query = \"\"\"\n",
    "SELECT ?monastery ?monasteryLabel\n",
    "       ?klosterdatenbankID\n",
    "       ?coord\n",
    "WHERE {\n",
    "  ?monastery wdt:P2   wd:Q141472 .        # instance of → monastery\n",
    "  ?monastery wdt:P471 ?klosterdatenbankID .  # Klosterdatenbank ID (P471)\n",
    "\n",
    "  OPTIONAL { ?monastery wdt:P48 ?coord }  # coordinates, if present\n",
    "\n",
    "  SERVICE wikibase:label { bd:serviceParam wikibase:language \"en,de\". }\n",
    "\n",
    "}\n",
    "\n",
    "LIMIT 100\n",
    "\"\"\"\n",
    "\n",
    "sparql = SPARQLWrapper(ENDPOINT)\n",
    "sparql.setQuery(query)\n",
    "sparql.setReturnFormat(JSON)\n",
    "\n",
    "results = sparql.query().convert()\n",
    "\n",
    "rows = [\n",
    "    {key: val[\"value\"] for key, val in binding.items()}\n",
    "    for binding in results[\"results\"][\"bindings\"]\n",
    "]\n",
    "\n",
    "df = pd.DataFrame(rows)\n",
    "\n",
    "df.to_csv(f\"data/factgrid_data/{FILE_NAME}.csv\")\n",
    "df.to_excel(f\"data/factgrid_data/{FILE_NAME}.xlsx\")"
   ]
  },
  {
   "cell_type": "code",
   "execution_count": null,
   "id": "d53f58e6",
   "metadata": {},
   "outputs": [],
   "source": []
  },
  {
   "cell_type": "code",
   "execution_count": null,
   "id": "55632020",
   "metadata": {},
   "outputs": [],
   "source": []
  }
 ],
 "metadata": {
  "kernelspec": {
   "display_name": "JohannasBasisEnvironment",
   "language": "python",
   "name": "python3"
  },
  "language_info": {
   "codemirror_mode": {
    "name": "ipython",
    "version": 3
   },
   "file_extension": ".py",
   "mimetype": "text/x-python",
   "name": "python",
   "nbconvert_exporter": "python",
   "pygments_lexer": "ipython3",
   "version": "3.12.9"
  }
 },
 "nbformat": 4,
 "nbformat_minor": 5
}
